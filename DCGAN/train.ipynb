{
 "cells": [
  {
   "cell_type": "code",
   "execution_count": 34,
   "metadata": {},
   "outputs": [],
   "source": [
    "import numpy as np\n",
    "import matplotlib.pyplot as plt\n",
    "import torch\n",
    "import torchvision\n",
    "import torchvision.transforms as transforms\n",
    "import torch.nn as nn\n",
    "import torch.nn.functional as F"
   ]
  },
  {
   "cell_type": "code",
   "execution_count": 35,
   "metadata": {},
   "outputs": [],
   "source": [
    "from Discriminator import Discriminator\n",
    "from Generator import Generator\n",
    "import torchvision.datasets\n",
    "import torch.utils.data"
   ]
  },
  {
   "cell_type": "code",
   "execution_count": 36,
   "metadata": {},
   "outputs": [],
   "source": [
    "ngpu = torch.cuda.device_count()\n",
    "batch_size = 128\n",
    "nc = 3\n",
    "ngf = 64\n",
    "ndf = 64\n",
    "lr = 0.0002\n",
    "beta1 = 0.5\n",
    "image_size = 64\n",
    "nz = 100\n",
    "num_epochs = 5\n",
    "num_workers = 2"
   ]
  },
  {
   "cell_type": "code",
   "execution_count": 37,
   "metadata": {},
   "outputs": [],
   "source": [
    "import torch.optim as optim\n",
    "import torch.utils.data\n",
    "import torchvision.datasets as dset\n",
    "import torchvision.transforms as transforms\n",
    "import torchvision.utils as vutils\n",
    "\n",
    "transforms = transforms.Compose([\n",
    "    transforms.Resize(image_size),\n",
    "    transforms.CenterCrop(image_size),\n",
    "    transforms.ToTensor(),\n",
    "    transforms.Normalize((0.5, 0.5, 0.5), (0.5, 0.5, 0.5))\n",
    "])\n",
    "\n",
    "dataset = dset.ImageFolder(root='./data/',\n",
    "                           transform=transforms)\n",
    "\n",
    "dataloader = torch.utils.data.DataLoader(dataset, batch_size=batch_size, shuffle=True, num_workers=num_workers)\n"
   ]
  },
  {
   "cell_type": "code",
   "execution_count": 38,
   "metadata": {},
   "outputs": [],
   "source": [
    "def init_weights(m):\n",
    "    if isinstance(m, (nn.ConvTranspose2d, nn.Conv2d)):\n",
    "        nn.init.normal_(m.weight.data, 0, 0.2)\n",
    "    elif isinstance(m, nn.BatchNorm2d):\n",
    "        nn.init.normal_(m.weight.data, 1.0, 0.02)\n",
    "        nn.init.constant_(m.bias.data, 0)"
   ]
  },
  {
   "cell_type": "code",
   "execution_count": 41,
   "metadata": {},
   "outputs": [
    {
     "name": "stdout",
     "output_type": "stream",
     "text": [
      "HELLOOO\n"
     ]
    },
    {
     "data": {
      "text/plain": [
       "Discriminator(\n",
       "  (model): Sequential(\n",
       "    (0): Conv2d(3, 64, kernel_size=(4, 4), stride=(2, 2), padding=(1, 1))\n",
       "    (1): BatchNorm2d(64, eps=1e-05, momentum=0.1, affine=True, track_running_stats=True)\n",
       "    (2): LeakyReLU(negative_slope=0.2, inplace=True)\n",
       "    (3): Conv2d(64, 128, kernel_size=(4, 4), stride=(2, 2), padding=(1, 1))\n",
       "    (4): BatchNorm2d(128, eps=1e-05, momentum=0.1, affine=True, track_running_stats=True)\n",
       "    (5): LeakyReLU(negative_slope=0.2, inplace=True)\n",
       "    (6): Conv2d(128, 256, kernel_size=(4, 4), stride=(2, 2), padding=(1, 1))\n",
       "    (7): BatchNorm2d(256, eps=1e-05, momentum=0.1, affine=True, track_running_stats=True)\n",
       "    (8): LeakyReLU(negative_slope=0.2, inplace=True)\n",
       "    (9): Conv2d(256, 512, kernel_size=(4, 4), stride=(2, 2), padding=(1, 1))\n",
       "    (10): BatchNorm2d(512, eps=1e-05, momentum=0.1, affine=True, track_running_stats=True)\n",
       "    (11): LeakyReLU(negative_slope=0.2, inplace=True)\n",
       "    (12): Conv2d(512, 1, kernel_size=(4, 4), stride=(1, 1))\n",
       "    (13): Sigmoid()\n",
       "  )\n",
       ")"
      ]
     },
     "execution_count": 41,
     "metadata": {},
     "output_type": "execute_result"
    }
   ],
   "source": [
    "generator = Generator(nz, ngf, nc, ngpu)\n",
    "\n",
    "generator.apply(init_weights)\n",
    "\n",
    "discriminator = Discriminator(ngpu, nc, ndf)\n",
    "\n",
    "discriminator.apply(init_weights)\n"
   ]
  },
  {
   "cell_type": "code",
   "execution_count": 43,
   "metadata": {},
   "outputs": [
    {
     "ename": "KeyboardInterrupt",
     "evalue": "",
     "output_type": "error",
     "traceback": [
      "\u001b[1;31m---------------------------------------------------------------------------\u001b[0m",
      "\u001b[1;31mKeyboardInterrupt\u001b[0m                         Traceback (most recent call last)",
      "Cell \u001b[1;32mIn[43], line 17\u001b[0m\n\u001b[0;32m     14\u001b[0m fake_noise \u001b[38;5;241m=\u001b[39m torch\u001b[38;5;241m.\u001b[39mrandn(\u001b[38;5;241m64\u001b[39m, \u001b[38;5;241m100\u001b[39m, \u001b[38;5;241m1\u001b[39m, \u001b[38;5;241m1\u001b[39m)\n\u001b[0;32m     16\u001b[0m \u001b[38;5;28;01mfor\u001b[39;00m epoch \u001b[38;5;129;01min\u001b[39;00m \u001b[38;5;28mrange\u001b[39m(num_epochs):\n\u001b[1;32m---> 17\u001b[0m     \u001b[38;5;28;01mfor\u001b[39;00m i, data \u001b[38;5;129;01min\u001b[39;00m \u001b[38;5;28;43menumerate\u001b[39;49m\u001b[43m(\u001b[49m\u001b[43mdataloader\u001b[49m\u001b[43m)\u001b[49m:\n\u001b[0;32m     18\u001b[0m         \u001b[38;5;28mprint\u001b[39m(i)\n\u001b[0;32m     19\u001b[0m         \u001b[38;5;66;03m#TRAIN DISCRIMINATOR\u001b[39;00m\n\u001b[0;32m     20\u001b[0m         \u001b[38;5;66;03m# run real images through discriminator\u001b[39;00m\n",
      "File \u001b[1;32mc:\\Users\\tejas\\Notebooks\\venv\\Lib\\site-packages\\torch\\utils\\data\\dataloader.py:438\u001b[0m, in \u001b[0;36mDataLoader.__iter__\u001b[1;34m(self)\u001b[0m\n\u001b[0;32m    436\u001b[0m     \u001b[38;5;28;01mreturn\u001b[39;00m \u001b[38;5;28mself\u001b[39m\u001b[38;5;241m.\u001b[39m_iterator\n\u001b[0;32m    437\u001b[0m \u001b[38;5;28;01melse\u001b[39;00m:\n\u001b[1;32m--> 438\u001b[0m     \u001b[38;5;28;01mreturn\u001b[39;00m \u001b[38;5;28;43mself\u001b[39;49m\u001b[38;5;241;43m.\u001b[39;49m\u001b[43m_get_iterator\u001b[49m\u001b[43m(\u001b[49m\u001b[43m)\u001b[49m\n",
      "File \u001b[1;32mc:\\Users\\tejas\\Notebooks\\venv\\Lib\\site-packages\\torch\\utils\\data\\dataloader.py:386\u001b[0m, in \u001b[0;36mDataLoader._get_iterator\u001b[1;34m(self)\u001b[0m\n\u001b[0;32m    384\u001b[0m \u001b[38;5;28;01melse\u001b[39;00m:\n\u001b[0;32m    385\u001b[0m     \u001b[38;5;28mself\u001b[39m\u001b[38;5;241m.\u001b[39mcheck_worker_number_rationality()\n\u001b[1;32m--> 386\u001b[0m     \u001b[38;5;28;01mreturn\u001b[39;00m \u001b[43m_MultiProcessingDataLoaderIter\u001b[49m\u001b[43m(\u001b[49m\u001b[38;5;28;43mself\u001b[39;49m\u001b[43m)\u001b[49m\n",
      "File \u001b[1;32mc:\\Users\\tejas\\Notebooks\\venv\\Lib\\site-packages\\torch\\utils\\data\\dataloader.py:1039\u001b[0m, in \u001b[0;36m_MultiProcessingDataLoaderIter.__init__\u001b[1;34m(self, loader)\u001b[0m\n\u001b[0;32m   1032\u001b[0m w\u001b[38;5;241m.\u001b[39mdaemon \u001b[38;5;241m=\u001b[39m \u001b[38;5;28;01mTrue\u001b[39;00m\n\u001b[0;32m   1033\u001b[0m \u001b[38;5;66;03m# NB: Process.start() actually take some time as it needs to\u001b[39;00m\n\u001b[0;32m   1034\u001b[0m \u001b[38;5;66;03m#     start a process and pass the arguments over via a pipe.\u001b[39;00m\n\u001b[0;32m   1035\u001b[0m \u001b[38;5;66;03m#     Therefore, we only add a worker to self._workers list after\u001b[39;00m\n\u001b[0;32m   1036\u001b[0m \u001b[38;5;66;03m#     it started, so that we do not call .join() if program dies\u001b[39;00m\n\u001b[0;32m   1037\u001b[0m \u001b[38;5;66;03m#     before it starts, and __del__ tries to join but will get:\u001b[39;00m\n\u001b[0;32m   1038\u001b[0m \u001b[38;5;66;03m#     AssertionError: can only join a started process.\u001b[39;00m\n\u001b[1;32m-> 1039\u001b[0m \u001b[43mw\u001b[49m\u001b[38;5;241;43m.\u001b[39;49m\u001b[43mstart\u001b[49m\u001b[43m(\u001b[49m\u001b[43m)\u001b[49m\n\u001b[0;32m   1040\u001b[0m \u001b[38;5;28mself\u001b[39m\u001b[38;5;241m.\u001b[39m_index_queues\u001b[38;5;241m.\u001b[39mappend(index_queue)\n\u001b[0;32m   1041\u001b[0m \u001b[38;5;28mself\u001b[39m\u001b[38;5;241m.\u001b[39m_workers\u001b[38;5;241m.\u001b[39mappend(w)\n",
      "File \u001b[1;32mC:\\Program Files\\WindowsApps\\PythonSoftwareFoundation.Python.3.11_3.11.2288.0_x64__qbz5n2kfra8p0\\Lib\\multiprocessing\\process.py:121\u001b[0m, in \u001b[0;36mBaseProcess.start\u001b[1;34m(self)\u001b[0m\n\u001b[0;32m    118\u001b[0m \u001b[38;5;28;01massert\u001b[39;00m \u001b[38;5;129;01mnot\u001b[39;00m _current_process\u001b[38;5;241m.\u001b[39m_config\u001b[38;5;241m.\u001b[39mget(\u001b[38;5;124m'\u001b[39m\u001b[38;5;124mdaemon\u001b[39m\u001b[38;5;124m'\u001b[39m), \\\n\u001b[0;32m    119\u001b[0m        \u001b[38;5;124m'\u001b[39m\u001b[38;5;124mdaemonic processes are not allowed to have children\u001b[39m\u001b[38;5;124m'\u001b[39m\n\u001b[0;32m    120\u001b[0m _cleanup()\n\u001b[1;32m--> 121\u001b[0m \u001b[38;5;28mself\u001b[39m\u001b[38;5;241m.\u001b[39m_popen \u001b[38;5;241m=\u001b[39m \u001b[38;5;28;43mself\u001b[39;49m\u001b[38;5;241;43m.\u001b[39;49m\u001b[43m_Popen\u001b[49m\u001b[43m(\u001b[49m\u001b[38;5;28;43mself\u001b[39;49m\u001b[43m)\u001b[49m\n\u001b[0;32m    122\u001b[0m \u001b[38;5;28mself\u001b[39m\u001b[38;5;241m.\u001b[39m_sentinel \u001b[38;5;241m=\u001b[39m \u001b[38;5;28mself\u001b[39m\u001b[38;5;241m.\u001b[39m_popen\u001b[38;5;241m.\u001b[39msentinel\n\u001b[0;32m    123\u001b[0m \u001b[38;5;66;03m# Avoid a refcycle if the target function holds an indirect\u001b[39;00m\n\u001b[0;32m    124\u001b[0m \u001b[38;5;66;03m# reference to the process object (see bpo-30775)\u001b[39;00m\n",
      "File \u001b[1;32mC:\\Program Files\\WindowsApps\\PythonSoftwareFoundation.Python.3.11_3.11.2288.0_x64__qbz5n2kfra8p0\\Lib\\multiprocessing\\context.py:224\u001b[0m, in \u001b[0;36mProcess._Popen\u001b[1;34m(process_obj)\u001b[0m\n\u001b[0;32m    222\u001b[0m \u001b[38;5;129m@staticmethod\u001b[39m\n\u001b[0;32m    223\u001b[0m \u001b[38;5;28;01mdef\u001b[39;00m \u001b[38;5;21m_Popen\u001b[39m(process_obj):\n\u001b[1;32m--> 224\u001b[0m     \u001b[38;5;28;01mreturn\u001b[39;00m \u001b[43m_default_context\u001b[49m\u001b[38;5;241;43m.\u001b[39;49m\u001b[43mget_context\u001b[49m\u001b[43m(\u001b[49m\u001b[43m)\u001b[49m\u001b[38;5;241;43m.\u001b[39;49m\u001b[43mProcess\u001b[49m\u001b[38;5;241;43m.\u001b[39;49m\u001b[43m_Popen\u001b[49m\u001b[43m(\u001b[49m\u001b[43mprocess_obj\u001b[49m\u001b[43m)\u001b[49m\n",
      "File \u001b[1;32mC:\\Program Files\\WindowsApps\\PythonSoftwareFoundation.Python.3.11_3.11.2288.0_x64__qbz5n2kfra8p0\\Lib\\multiprocessing\\context.py:336\u001b[0m, in \u001b[0;36mSpawnProcess._Popen\u001b[1;34m(process_obj)\u001b[0m\n\u001b[0;32m    333\u001b[0m \u001b[38;5;129m@staticmethod\u001b[39m\n\u001b[0;32m    334\u001b[0m \u001b[38;5;28;01mdef\u001b[39;00m \u001b[38;5;21m_Popen\u001b[39m(process_obj):\n\u001b[0;32m    335\u001b[0m     \u001b[38;5;28;01mfrom\u001b[39;00m \u001b[38;5;21;01m.\u001b[39;00m\u001b[38;5;21;01mpopen_spawn_win32\u001b[39;00m \u001b[38;5;28;01mimport\u001b[39;00m Popen\n\u001b[1;32m--> 336\u001b[0m     \u001b[38;5;28;01mreturn\u001b[39;00m \u001b[43mPopen\u001b[49m\u001b[43m(\u001b[49m\u001b[43mprocess_obj\u001b[49m\u001b[43m)\u001b[49m\n",
      "File \u001b[1;32mC:\\Program Files\\WindowsApps\\PythonSoftwareFoundation.Python.3.11_3.11.2288.0_x64__qbz5n2kfra8p0\\Lib\\multiprocessing\\popen_spawn_win32.py:95\u001b[0m, in \u001b[0;36mPopen.__init__\u001b[1;34m(self, process_obj)\u001b[0m\n\u001b[0;32m     93\u001b[0m \u001b[38;5;28;01mtry\u001b[39;00m:\n\u001b[0;32m     94\u001b[0m     reduction\u001b[38;5;241m.\u001b[39mdump(prep_data, to_child)\n\u001b[1;32m---> 95\u001b[0m     \u001b[43mreduction\u001b[49m\u001b[38;5;241;43m.\u001b[39;49m\u001b[43mdump\u001b[49m\u001b[43m(\u001b[49m\u001b[43mprocess_obj\u001b[49m\u001b[43m,\u001b[49m\u001b[43m \u001b[49m\u001b[43mto_child\u001b[49m\u001b[43m)\u001b[49m\n\u001b[0;32m     96\u001b[0m \u001b[38;5;28;01mfinally\u001b[39;00m:\n\u001b[0;32m     97\u001b[0m     set_spawning_popen(\u001b[38;5;28;01mNone\u001b[39;00m)\n",
      "File \u001b[1;32mC:\\Program Files\\WindowsApps\\PythonSoftwareFoundation.Python.3.11_3.11.2288.0_x64__qbz5n2kfra8p0\\Lib\\multiprocessing\\reduction.py:60\u001b[0m, in \u001b[0;36mdump\u001b[1;34m(obj, file, protocol)\u001b[0m\n\u001b[0;32m     58\u001b[0m \u001b[38;5;28;01mdef\u001b[39;00m \u001b[38;5;21mdump\u001b[39m(obj, file, protocol\u001b[38;5;241m=\u001b[39m\u001b[38;5;28;01mNone\u001b[39;00m):\n\u001b[0;32m     59\u001b[0m \u001b[38;5;250m    \u001b[39m\u001b[38;5;124;03m'''Replacement for pickle.dump() using ForkingPickler.'''\u001b[39;00m\n\u001b[1;32m---> 60\u001b[0m     \u001b[43mForkingPickler\u001b[49m\u001b[43m(\u001b[49m\u001b[43mfile\u001b[49m\u001b[43m,\u001b[49m\u001b[43m \u001b[49m\u001b[43mprotocol\u001b[49m\u001b[43m)\u001b[49m\u001b[38;5;241;43m.\u001b[39;49m\u001b[43mdump\u001b[49m\u001b[43m(\u001b[49m\u001b[43mobj\u001b[49m\u001b[43m)\u001b[49m\n",
      "\u001b[1;31mKeyboardInterrupt\u001b[0m: "
     ]
    }
   ],
   "source": [
    "criterion = nn.BCELoss()\n",
    "G_opt = optim.Adam(params=generator.parameters(), lr=lr, betas=(0.5, 0.999))\n",
    "D_opt = optim.Adam(params=discriminator.parameters(), lr=lr, betas=(0.5, 0.999))\n",
    "real_label = 1\n",
    "fake_label = 0\n",
    "\n",
    "num_epochs = 1\n",
    "\n",
    "discriminator_losses = []\n",
    "generator_losses = []\n",
    "iters = 0\n",
    "grids = []\n",
    "\n",
    "fake_noise = torch.randn(64, 100, 1, 1)\n",
    "\n",
    "for epoch in range(num_epochs):\n",
    "    for i, data in enumerate(dataloader):\n",
    "        #TRAIN DISCRIMINATOR\n",
    "        # run real images through discriminator\n",
    "        images, _ = data\n",
    "        D_opt.zero_grad()\n",
    "        output = discriminator(images).view(-1, 1)\n",
    "        labels_real = torch.empty(batch_size, 1).fill_(1)\n",
    "        dreal_loss = criterion(output, labels_real)\n",
    "        dreal_loss.backward()\n",
    "\n",
    "        # run fake images through discriminator\n",
    "        start_vectors = torch.randn(batch_size, 100, 1, 1)\n",
    "        g_output = generator(start_vectors)\n",
    "        d_output = discriminator(g_output.detach()).view(-1, 1)\n",
    "        labels_fake = torch.empty(batch_size, 1).fill_(0)\n",
    "        dfake_loss = criterion(d_output, labels_fake)\n",
    "        dfake_loss.backward()\n",
    "\n",
    "        # optimize discriminator\n",
    "        dloss = dfake_loss.item() + dreal_loss.item()\n",
    "        discriminator_losses.append(dloss)\n",
    "        D_opt.step()\n",
    "\n",
    "        #TRAIN GENERATOR\n",
    "        G_opt.zero_grad()\n",
    "        generated_images = generator(start_vectors)\n",
    "        d_generated_images = discriminator(generated_images).view(-1, 1)\n",
    "        dgen_loss = criterion(d_generated_images, labels_real)\n",
    "        generator_losses.append(dgen_loss.item())\n",
    "        dgen_loss.backward()\n",
    "        G_opt.step()\n",
    "        if (i == 1000):\n",
    "            break\n",
    "        if (i % 50 == 0):\n",
    "            print(f'EPOCH: {epoch}, i: {i}, Discriminator fake loss: {dfake_loss.item()}, Discriminator real loss: {dreal_loss.item()}, Discriminator loss: {dloss},Generator loss: {dgen_loss.item()}')\n",
    "        \n",
    "        \n",
    "\n",
    "        if (iters % 500 == 0):\n",
    "            with torch.no_grad():\n",
    "                output = generator(fake_noise).detach()\n",
    "                grids.append(output)\n",
    "        \n",
    "        iters += 1\n",
    "\n",
    "\n"
   ]
  },
  {
   "cell_type": "code",
   "execution_count": null,
   "metadata": {},
   "outputs": [],
   "source": [
    "torch.save(discriminator.state_dict(), './Models/discriminator')\n",
    "torch.save(generator.state_dict(), './Models/generator')"
   ]
  },
  {
   "cell_type": "code",
   "execution_count": 32,
   "metadata": {},
   "outputs": [
    {
     "name": "stdout",
     "output_type": "stream",
     "text": [
      "[9.46702766418457, 8.30473518371582, 7.0860066413879395, 7.626431465148926, 8.628865242004395, 12.746368408203125, 10.48304557800293, 11.772764205932617, 10.355409622192383, 11.631795883178711, 12.126100540161133, 13.686363220214844, 11.79005241394043, 11.922568321228027, 11.632925033569336, 12.964308738708496, 12.188389778137207, 13.441307067871094, 13.150005340576172, 13.802115440368652, 13.384523391723633, 13.742122650146484, 14.775303840637207, 15.30206298828125, 15.002272605895996, 14.009035110473633, 14.374255180358887, 14.634359359741211, 15.597799301147461, 15.001480102539062, 13.250810623168945, 14.399550437927246, 13.954501152038574, 14.65098762512207, 15.759428024291992, 17.343778610229492, 15.253091812133789, 17.072498321533203, 15.972383499145508, 16.089431762695312, 16.176597595214844, 16.5985107421875, 15.97970962524414, 14.983637809753418, 15.772771835327148, 16.15467071533203, 16.21337890625, 16.669361114501953, 18.57256507873535, 16.69689178466797, 16.049760818481445, 15.742069244384766, 17.499971389770508, 17.9515323638916, 17.389535903930664, 18.987995147705078, 16.218124389648438, 14.04002857208252, 17.51263999938965, 17.485456466674805, 18.03721809387207, 17.55511474609375, 16.745887756347656, 16.93543815612793, 17.00360870361328, 17.76563262939453, 18.50375747680664, 20.100814819335938, 18.011796951293945, 15.686319351196289, 17.523853302001953, 19.303997039794922, 19.92363929748535, 19.459728240966797, 19.834503173828125, 18.895511627197266, 19.121505737304688, 17.59930992126465, 20.054567337036133, 20.769580841064453, 19.253963470458984, 19.97454261779785, 18.65806007385254, 19.16053009033203, 19.008888244628906, 18.82014274597168, 18.743091583251953, 20.590974807739258, 20.73758316040039, 18.980785369873047, 19.921812057495117, 19.544723510742188, 19.099822998046875, 18.22541046142578, 20.243900299072266, 21.453996658325195, 22.176937103271484, 21.04434585571289, 19.73617172241211, 19.441673278808594, 19.13186264038086, 20.483402252197266, 20.13445281982422, 20.15276527404785, 21.595630645751953, 21.795154571533203, 20.72821044921875, 20.345542907714844, 20.340736389160156, 19.767086029052734, 21.833049774169922, 21.457782745361328, 20.90094757080078, 19.674888610839844, 20.249176025390625, 20.508615493774414, 21.105886459350586, 19.900686264038086, 21.132043838500977, 19.73713493347168, 19.81007957458496, 20.553369522094727, 21.07601547241211, 23.06626319885254, 23.45730972290039, 22.587032318115234, 20.89833641052246, 21.095703125, 21.088279724121094, 22.159931182861328, 23.111648559570312, 22.190370559692383, 21.202354431152344, 20.92335319519043, 21.99052619934082, 23.144563674926758, 20.770797729492188, 22.181015014648438, 20.15773582458496, 21.98726463317871, 20.309860229492188, 21.446123123168945, 24.4985294342041, 23.41725730895996, 24.492538452148438, 23.561763763427734, 20.475814819335938, 21.180740356445312, 23.123016357421875, 23.793428421020508, 21.395404815673828, 19.152236938476562, 18.189973831176758, 22.65975570678711, 23.501296997070312, 25.719470977783203, 24.354333877563477, 22.451034545898438, 23.014680862426758, 23.859941482543945, 23.231754302978516, 21.16664695739746, 21.650991439819336, 23.37438201904297, 20.739269256591797, 22.840166091918945, 21.915517807006836, 21.823875427246094, 22.252336502075195, 22.41537094116211, 22.657150268554688, 22.383563995361328, 20.193164825439453, 22.715181350708008, 22.603364944458008, 26.100902557373047, 27.236459732055664, 27.688121795654297, 24.482454299926758, 23.4465389251709, 22.69464874267578, 23.52250099182129, 22.58586883544922, 21.57267189025879, 25.695100784301758, 26.631473541259766, 26.775768280029297, 25.96314239501953, 24.39688491821289, 25.544273376464844, 24.564197540283203, 23.18328285217285, 23.28980827331543, 22.616056442260742, 22.87457275390625, 23.894582748413086, 23.95655632019043, 22.206884384155273, 25.040348052978516, 24.561113357543945, 21.78605079650879, 21.71135711669922, 21.944162368774414, 20.75891876220703, 26.781997680664062, 28.067276000976562, 27.691926956176758, 25.079662322998047, 23.0339298248291, 20.798295974731445, 22.776113510131836, 24.276432037353516, 24.15633773803711, 23.950462341308594, 22.365680694580078, 24.29850959777832, 24.360042572021484, 22.971343994140625, 21.62786865234375, 23.447307586669922, 26.024133682250977, 25.04698371887207, 21.680084228515625, 19.622167587280273, 25.972881317138672, 28.690399169921875, 27.868633270263672, 25.077348709106445, 21.0601863861084, 23.28641700744629, 22.178354263305664, 20.312192916870117, 24.774635314941406, 24.7863712310791, 24.232439041137695, 22.15083885192871, 23.17929458618164, 22.05987548828125, 21.718921661376953, 22.487323760986328, 24.360614776611328, 25.240800857543945, 26.048215866088867, 27.717599868774414, 25.070388793945312, 21.7125301361084, 18.549835205078125, 23.99759864807129, 25.322467803955078, 24.767541885375977, 22.93142318725586, 23.9500675201416, 23.968368530273438, 22.825244903564453, 21.9161434173584, 26.22308349609375, 27.529438018798828, 25.911895751953125, 24.002939224243164, 20.53964614868164, 28.15386390686035, 33.20610809326172, 35.134971618652344, 32.9052619934082, 31.50963592529297, 28.626827239990234, 27.00183868408203, 21.667797088623047, 25.709213256835938, 26.103219985961914, 25.09968376159668, 21.585765838623047, 26.57585906982422, 29.427114486694336, 28.658166885375977, 26.576717376708984, 24.188335418701172, 23.19527244567871, 26.02838134765625, 26.489370346069336, 25.003955841064453, 25.913986206054688, 24.493152618408203, 21.681093215942383, 31.777362823486328, 35.35828399658203, 35.09447479248047, 33.96814727783203, 33.15198516845703, 31.01508903503418, 26.040088653564453, 26.608928680419922, 27.19495391845703, 26.21289825439453, 24.70794677734375, 23.03181266784668, 28.343137741088867, 27.365129470825195, 25.773746490478516, 25.870540618896484, 29.41415023803711, 28.021644592285156, 26.131803512573242, 25.716724395751953, 25.22022819519043, 28.176856994628906, 28.634185791015625, 28.376020431518555, 28.070091247558594, 23.230249404907227, 27.605335235595703, 34.82271957397461, 36.674434661865234, 35.54774475097656, 34.588375091552734, 31.284656524658203, 28.051311492919922, 24.628938674926758, 23.04693603515625, 37.678428649902344, 46.64583206176758, 50.63912582397461, 51.741390228271484, 52.69536590576172, 52.95904541015625, 52.323123931884766, 52.46176528930664, 51.81002426147461, 51.894405364990234, 51.29816818237305, 50.549957275390625, 49.704837799072266, 50.48955154418945, 48.96722412109375, 49.42363357543945, 48.07561492919922, 47.66153335571289, 47.742305755615234, 47.42560958862305, 47.529685974121094, 47.4090576171875, 46.49320983886719, 47.18697738647461, 45.7938117980957, 44.483646392822266, 43.34519958496094, 44.389556884765625, 43.89118576049805, 42.13510513305664, 42.046409606933594, 42.113502502441406, 42.06830978393555, 39.806190490722656, 38.063907623291016, 36.79052734375, 35.13688659667969, 32.7987174987793, 30.051942825317383, 26.253969192504883, 22.15561294555664, 28.16075897216797, 32.13438415527344, 29.93112564086914, 27.10055160522461, 21.102903366088867, 28.189735412597656, 30.53573989868164, 31.0024356842041, 30.022859573364258, 25.782377243041992, 21.84415626525879, 36.840030670166016, 44.746891021728516, 47.185630798339844, 48.06126403808594, 49.25761032104492, 49.77507781982422, 48.745216369628906, 49.7357177734375, 48.29994201660156, 49.24711990356445, 47.779441833496094, 48.73065948486328]\n",
      "383\n"
     ]
    }
   ],
   "source": [
    "print(generator_losses)\n",
    "print(iters)"
   ]
  },
  {
   "cell_type": "code",
   "execution_count": 44,
   "metadata": {},
   "outputs": [
    {
     "data": {
      "text/plain": [
       "1583"
      ]
     },
     "execution_count": 44,
     "metadata": {},
     "output_type": "execute_result"
    }
   ],
   "source": [
    "len(dataloader)"
   ]
  },
  {
   "cell_type": "code",
   "execution_count": null,
   "metadata": {},
   "outputs": [],
   "source": []
  }
 ],
 "metadata": {
  "kernelspec": {
   "display_name": "venv",
   "language": "python",
   "name": "python3"
  },
  "language_info": {
   "codemirror_mode": {
    "name": "ipython",
    "version": 3
   },
   "file_extension": ".py",
   "mimetype": "text/x-python",
   "name": "python",
   "nbconvert_exporter": "python",
   "pygments_lexer": "ipython3",
   "version": "3.11.7"
  }
 },
 "nbformat": 4,
 "nbformat_minor": 2
}
