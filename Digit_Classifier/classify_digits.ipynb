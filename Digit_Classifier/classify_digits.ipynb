{
 "cells": [
  {
   "cell_type": "code",
   "execution_count": 5,
   "metadata": {},
   "outputs": [],
   "source": [
    "import numpy as np\n",
    "import matplotlib.pyplot as plt\n",
    "import torch\n",
    "import torchvision\n",
    "import torchvision.transforms as transforms\n",
    "import torch.nn as nn\n",
    "import torch.nn.functional as F"
   ]
  },
  {
   "cell_type": "code",
   "execution_count": 7,
   "metadata": {},
   "outputs": [],
   "source": [
    "import torchvision.datasets\n",
    "import torch.utils.data"
   ]
  },
  {
   "cell_type": "code",
   "execution_count": 61,
   "metadata": {},
   "outputs": [
    {
     "name": "stdout",
     "output_type": "stream",
     "text": [
      "Files already downloaded and verified\n",
      "Files already downloaded and verified\n"
     ]
    }
   ],
   "source": [
    "batch_size = 4\n",
    "transform = transforms.Compose([transforms.ToTensor(), transforms.Normalize((0.5, 0.5, 0.5), (0.5, 0.5, 0.5))])\n",
    "\n",
    "trainset = torchvision.datasets.CIFAR10(root=\"./data\", train=True, transform=transform, download=True)\n",
    "trainloader = torch.utils.data.DataLoader(trainset, batch_size=4, shuffle=True, num_workers=2)\n",
    "\n",
    "testset = torchvision.datasets.CIFAR10(root='./data', train=False, transform=transform, download=True)\n",
    "testloader = torch.utils.data.DataLoader(trainset, batch_size=4, shuffle=False, num_workers=2)\n",
    "\n",
    "classes = ('plane', 'car', 'bird', 'cat',\n",
    "           'deer', 'dog', 'frog', 'horse', 'ship', 'truck')"
   ]
  },
  {
   "cell_type": "code",
   "execution_count": 12,
   "metadata": {},
   "outputs": [],
   "source": [
    "dataloader = iter(trainloader)\n",
    "images, labels = next(dataloader)"
   ]
  },
  {
   "cell_type": "code",
   "execution_count": 41,
   "metadata": {},
   "outputs": [
    {
     "name": "stderr",
     "output_type": "stream",
     "text": [
      "Clipping input data to the valid range for imshow with RGB data ([0..1] for floats or [0..255] for integers).\n",
      "Clipping input data to the valid range for imshow with RGB data ([0..1] for floats or [0..255] for integers).\n",
      "Clipping input data to the valid range for imshow with RGB data ([0..1] for floats or [0..255] for integers).\n",
      "Clipping input data to the valid range for imshow with RGB data ([0..1] for floats or [0..255] for integers).\n"
     ]
    },
    {
     "name": "stdout",
     "output_type": "stream",
     "text": [
      "['truck', 'dog', 'deer', 'frog']\n"
     ]
    },
    {
     "data": {
      "text/plain": [
       "<Figure size 640x480 with 0 Axes>"
      ]
     },
     "metadata": {},
     "output_type": "display_data"
    },
    {
     "data": {
      "image/png": "[encoded data removed]",
      "text/plain": [
       "<Figure size 3200x3200 with 4 Axes>"
      ]
     },
     "metadata": {},
     "output_type": "display_data"
    }
   ],
   "source": [
    "\n",
    "plt.figure()\n",
    "\n",
    "fig = plt.figure(figsize=(32, 32))\n",
    "for i in range(4):\n",
    "    sub = fig.add_subplot(32, 32, i+1)\n",
    "    im2display = np.transpose(images[i], (1, 2, 0))\n",
    "    sub.imshow(im2display, interpolation='nearest')\n",
    "print([classes[i] for i in labels])"
   ]
  },
  {
   "cell_type": "code",
   "execution_count": 44,
   "metadata": {},
   "outputs": [],
   "source": [
    "class Net(nn.Module):\n",
    "    def __init__(self):\n",
    "        super().__init__()\n",
    "        self.conv1 = nn.Conv2d(3, 6, 5)\n",
    "        self.pool = nn.MaxPool2d(2, 2)\n",
    "        self.conv2 = nn.Conv2d(6, 16, 5)\n",
    "        self.fc1 = nn.Linear(16*5*5, 120)\n",
    "        self.fc2 = nn.Linear(120, 84)\n",
    "        self.fc3 = nn.Linear(84, 10)\n",
    "    \n",
    "    def forward(self, data):\n",
    "        l1 = self.pool(F.relu(self.conv1(data)))\n",
    "        l2 = self.pool(F.relu(self.conv2(l1)))\n",
    "        x = torch.flatten(l2, 1)\n",
    "        f1 = F.relu(self.fc1(x))\n",
    "        f2 = F.relu(self.fc2(f1))\n",
    "        f3 = self.fc3(f2)\n",
    "        return f3\n",
    "    \n",
    "net = Net()"
   ]
  },
  {
   "cell_type": "code",
   "execution_count": 45,
   "metadata": {},
   "outputs": [],
   "source": [
    "optimizer = torch.optim.SGD(net.parameters(), lr=0.001, momentum=0.9)\n",
    "criterion = torch.nn.CrossEntropyLoss()"
   ]
  },
  {
   "cell_type": "code",
   "execution_count": 46,
   "metadata": {},
   "outputs": [
    {
     "name": "stdout",
     "output_type": "stream",
     "text": [
      "EPOCH: 0 i: 1999 LOSS: 2.1847221181094647\n",
      "EPOCH: 0 i: 3999 LOSS: 1.81593220692873\n",
      "EPOCH: 0 i: 5999 LOSS: 1.659810152053833\n",
      "EPOCH: 0 i: 7999 LOSS: 1.576831332013011\n",
      "EPOCH: 0 i: 9999 LOSS: 1.4980725589096546\n",
      "EPOCH: 0 i: 11999 LOSS: 1.449043179050088\n",
      "EPOCH: 1 i: 1999 LOSS: 1.389036149032414\n",
      "EPOCH: 1 i: 3999 LOSS: 1.3791919244229793\n",
      "EPOCH: 1 i: 5999 LOSS: 1.327756078420207\n",
      "EPOCH: 1 i: 7999 LOSS: 1.2939119963217527\n",
      "EPOCH: 1 i: 9999 LOSS: 1.3046227396018804\n",
      "EPOCH: 1 i: 11999 LOSS: 1.2966619028039277\n"
     ]
    }
   ],
   "source": [
    "for epoch in range(2):\n",
    "    \n",
    "    running_loss = 0\n",
    "    for i, data in enumerate(trainloader, 0):\n",
    "        \n",
    "        inp, labels = data\n",
    "        optimizer.zero_grad()\n",
    "\n",
    "        outp = net(inp)\n",
    "        loss = criterion(outp, labels)\n",
    "        loss.backward()\n",
    "        optimizer.step()\n",
    "\n",
    "        running_loss += loss.item()\n",
    "        if i%2000 == 1999:\n",
    "            print(\"EPOCH:\", epoch, \"i:\", i, \"LOSS:\", running_loss/2000)\n",
    "            running_loss = 0\n"
   ]
  },
  {
   "cell_type": "code",
   "execution_count": 49,
   "metadata": {},
   "outputs": [],
   "source": [
    "PATH = './cifar_net_path'\n",
    "torch.save(net.state_dict(), PATH)"
   ]
  },
  {
   "cell_type": "code",
   "execution_count": 63,
   "metadata": {},
   "outputs": [
    {
     "name": "stdout",
     "output_type": "stream",
     "text": [
      "torch.Size([4, 3, 32, 32])\n",
      "torch.Size([4, 10])\n"
     ]
    }
   ],
   "source": [
    "loaded_net = Net()\n",
    "loaded_net.load_state_dict(torch.load(PATH))\n",
    "\n",
    "testdataloader = iter(testloader)\n",
    "data, labels = next(testdataloader)\n",
    "with torch.no_grad():\n",
    "    out = loaded_net(data)\n",
    "    \n"
   ]
  },
  {
   "cell_type": "code",
   "execution_count": 64,
   "metadata": {},
   "outputs": [],
   "source": [
    "def display_images(images, labels):\n",
    "    plt.figure()\n",
    "\n",
    "    fig = plt.figure(figsize=(32, 32))\n",
    "    for i in range(4):\n",
    "        sub = fig.add_subplot(32, 32, i+1)\n",
    "        im2display = np.transpose(images[i], (1, 2, 0))\n",
    "        sub.imshow(im2display, interpolation='nearest')\n",
    "    print([classes[i] for i in labels])"
   ]
  },
  {
   "cell_type": "code",
   "execution_count": 65,
   "metadata": {},
   "outputs": [
    {
     "name": "stderr",
     "output_type": "stream",
     "text": [
      "Clipping input data to the valid range for imshow with RGB data ([0..1] for floats or [0..255] for integers).\n",
      "Clipping input data to the valid range for imshow with RGB data ([0..1] for floats or [0..255] for integers).\n",
      "Clipping input data to the valid range for imshow with RGB data ([0..1] for floats or [0..255] for integers).\n",
      "Clipping input data to the valid range for imshow with RGB data ([0..1] for floats or [0..255] for integers).\n"
     ]
    },
    {
     "name": "stdout",
     "output_type": "stream",
     "text": [
      "['frog', 'truck', 'truck', 'deer']\n"
     ]
    },
    {
     "data": {
      "text/plain": [
       "<Figure size 640x480 with 0 Axes>"
      ]
     },
     "metadata": {},
     "output_type": "display_data"
    },
    {
     "data": {
      "image/png": "[encoded data removed]",
      "text/plain": [
       "<Figure size 3200x3200 with 4 Axes>"
      ]
     },
     "metadata": {},
     "output_type": "display_data"
    }
   ],
   "source": [
    "display_images(data, labels)"
   ]
  },
  {
   "cell_type": "code",
   "execution_count": 69,
   "metadata": {},
   "outputs": [
    {
     "name": "stdout",
     "output_type": "stream",
     "text": [
      "['frog', 'truck', 'truck', 'deer']\n",
      "torch.Size([4])\n",
      "torch.Size([4])\n"
     ]
    }
   ],
   "source": [
    "print([classes[i] for i in torch.argmax(out, dim=1)])\n",
    "print(labels.shape)\n",
    "print(torch.argmax(out, dim=1).shape)"
   ]
  },
  {
   "cell_type": "code",
   "execution_count": 77,
   "metadata": {},
   "outputs": [
    {
     "name": "stdout",
     "output_type": "stream",
     "text": [
      "tensor(29046) 50000 tensor(0.5809)\n",
      "plane 0.6198\n",
      "car 0.7576\n",
      "bird 0.4034\n",
      "cat 0.342\n",
      "deer 0.4948\n",
      "dog 0.4654\n",
      "frog 0.7164\n",
      "horse 0.5882\n",
      "ship 0.7374\n",
      "truck 0.6842\n"
     ]
    }
   ],
   "source": [
    "correct = 0\n",
    "total = 0\n",
    "confusion_matrix = np.zeros((len(classes), len(classes)))\n",
    "correct_pred = [0 for c in classes]\n",
    "total_pred = [0 for c in classes]\n",
    "with torch.no_grad():\n",
    "    for i, (inputs, labels) in enumerate(testloader, 0):\n",
    "        \n",
    "        out = loaded_net(inputs)\n",
    "        y_hat = torch.argmax(out, dim=1)\n",
    "        num_correct = (y_hat == labels).sum()\n",
    "        correct += num_correct\n",
    "        total += 4\n",
    "        for pred, truth in zip(y_hat, labels):\n",
    "            if pred == truth:\n",
    "                correct_pred[pred] += 1\n",
    "            total_pred[truth] += 1\n",
    "print(correct, total, correct/total)\n",
    "for i, c in enumerate(classes, 0):\n",
    "    print(c, correct_pred[i]/total_pred[i])\n",
    "        "
   ]
  },
  {
   "cell_type": "code",
   "execution_count": null,
   "metadata": {},
   "outputs": [],
   "source": []
  }
 ],
 "metadata": {
  "kernelspec": {
   "display_name": "venv",
   "language": "python",
   "name": "python3"
  },
  "language_info": {
   "codemirror_mode": {
    "name": "ipython",
    "version": 3
   },
   "file_extension": ".py",
   "mimetype": "text/x-python",
   "name": "python",
   "nbconvert_exporter": "python",
   "pygments_lexer": "ipython3",
   "version": "3.11.7"
  }
 },
 "nbformat": 4,
 "nbformat_minor": 2
}
